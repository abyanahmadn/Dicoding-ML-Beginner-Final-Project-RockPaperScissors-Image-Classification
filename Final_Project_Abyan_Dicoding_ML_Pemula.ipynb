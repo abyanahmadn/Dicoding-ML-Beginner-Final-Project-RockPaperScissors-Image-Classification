{
  "nbformat": 4,
  "nbformat_minor": 0,
  "metadata": {
    "colab": {
      "name": "Final Project Abyan - Dicoding ML Pemula.ipynb",
      "provenance": [],
      "authorship_tag": "ABX9TyOkfm95HSyYOmhA9igF5JTh",
      "include_colab_link": true
    },
    "kernelspec": {
      "name": "python3",
      "display_name": "Python 3"
    },
    "language_info": {
      "name": "python"
    }
  },
  "cells": [
    {
      "cell_type": "markdown",
      "metadata": {
        "id": "view-in-github",
        "colab_type": "text"
      },
      "source": [
        "<a href=\"https://colab.research.google.com/github/abyanahmadn/Project-Dicoding-ML-Pemula/blob/main/Final_Project_Abyan_Dicoding_ML_Pemula.ipynb\" target=\"_parent\"><img src=\"https://colab.research.google.com/assets/colab-badge.svg\" alt=\"Open In Colab\"/></a>"
      ]
    },
    {
      "cell_type": "code",
      "metadata": {
        "id": "HCJyt-MEe7Iu"
      },
      "source": [
        ""
      ],
      "execution_count": null,
      "outputs": []
    }
  ]
}